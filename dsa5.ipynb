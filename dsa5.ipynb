{
  "cells": [
    {
      "cell_type": "markdown",
      "metadata": {
        "id": "view-in-github",
        "colab_type": "text"
      },
      "source": [
        "<a href=\"https://colab.research.google.com/github/FIRDOUS-BHAT/DSA/blob/main/dsa5.ipynb\" target=\"_parent\"><img src=\"https://colab.research.google.com/assets/colab-badge.svg\" alt=\"Open In Colab\"/></a>"
      ]
    },
    {
      "cell_type": "code",
      "execution_count": null,
      "id": "b6845af4",
      "metadata": {
        "id": "b6845af4",
        "outputId": "4d419618-cbeb-4aed-8605-fe99a45b9873"
      },
      "outputs": [
        {
          "name": "stdout",
          "output_type": "stream",
          "text": [
            "['code', 'code', 'code', 'code', 'code']\n"
          ]
        }
      ],
      "source": [
        "\n",
        "def dele_myana(str):\n",
        "    NEW=[]\n",
        "    myset = set()\n",
        "    for word in  str:\n",
        "        if \"\".join (word) not in myset:\n",
        "            NEW.append(i)\n",
        "            myset.add(\"\".join(sorted(word)))\n",
        "    return sorted(NEW)\n",
        "print(dele_myana(['code', 'doce', 'ecod', 'framer', 'frame']))"
      ]
    },
    {
      "cell_type": "code",
      "execution_count": null,
      "id": "5ca97d9c",
      "metadata": {
        "id": "5ca97d9c"
      },
      "outputs": [],
      "source": []
    },
    {
      "cell_type": "code",
      "execution_count": null,
      "id": "5b4d2b16",
      "metadata": {
        "id": "5b4d2b16"
      },
      "outputs": [],
      "source": []
    }
  ],
  "metadata": {
    "kernelspec": {
      "display_name": "Python 3 (ipykernel)",
      "language": "python",
      "name": "python3"
    },
    "language_info": {
      "codemirror_mode": {
        "name": "ipython",
        "version": 3
      },
      "file_extension": ".py",
      "mimetype": "text/x-python",
      "name": "python",
      "nbconvert_exporter": "python",
      "pygments_lexer": "ipython3",
      "version": "3.9.13"
    },
    "colab": {
      "provenance": [],
      "include_colab_link": true
    }
  },
  "nbformat": 4,
  "nbformat_minor": 5
}