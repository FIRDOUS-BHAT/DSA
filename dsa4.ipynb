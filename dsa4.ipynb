{
  "cells": [
    {
      "cell_type": "markdown",
      "metadata": {
        "id": "view-in-github",
        "colab_type": "text"
      },
      "source": [
        "<a href=\"https://colab.research.google.com/github/FIRDOUS-BHAT/DSA/blob/main/dsa4.ipynb\" target=\"_parent\"><img src=\"https://colab.research.google.com/assets/colab-badge.svg\" alt=\"Open In Colab\"/></a>"
      ]
    },
    {
      "cell_type": "code",
      "execution_count": null,
      "id": "73ed46bb",
      "metadata": {
        "id": "73ed46bb",
        "outputId": "89a8d1e0-372e-434b-ab40-e735a65f43b7"
      },
      "outputs": [
        {
          "data": {
            "text/plain": [
              "4"
            ]
          },
          "execution_count": 4,
          "metadata": {},
          "output_type": "execute_result"
        }
      ],
      "source": [
        "class rectify:\n",
        "  def add(self,a,b):\n",
        "    return (a+b)\n",
        "\n",
        "  def asub(self,a,b):\n",
        "    return(a*b)\n",
        "  def sub(self,a,b):\n",
        "    return(a-b)\n",
        "\n",
        "\n",
        "a=rectify()\n",
        "b=rectify()\n",
        "a.add(5,8)\n",
        "b.asub(5,7)\n",
        "a.sub(7,3)"
      ]
    },
    {
      "cell_type": "code",
      "execution_count": null,
      "id": "07411062",
      "metadata": {
        "id": "07411062",
        "outputId": "58496ff8-767c-4b98-83da-af873249afbb"
      },
      "outputs": [
        {
          "name": "stdout",
          "output_type": "stream",
          "text": [
            "60\n"
          ]
        }
      ],
      "source": [
        "a=[1,2,2,5,6,8,10,12,14]\n",
        "total=0\n",
        "for i in a:\n",
        "    total+= i\n",
        "print(total)"
      ]
    },
    {
      "cell_type": "code",
      "execution_count": null,
      "id": "c637b37a",
      "metadata": {
        "id": "c637b37a",
        "outputId": "cd9ed017-5240-4428-eaed-6694a116a839"
      },
      "outputs": [
        {
          "name": "stdout",
          "output_type": "stream",
          "text": [
            "8\n"
          ]
        }
      ],
      "source": [
        "z=sum(int(a[i]) for i in range(len(a)))\n",
        "print(z)"
      ]
    },
    {
      "cell_type": "code",
      "execution_count": null,
      "id": "c2d99e38",
      "metadata": {
        "id": "c2d99e38",
        "outputId": "15e0794f-6bd0-4d6a-dc32-5673fbfe0f6d"
      },
      "outputs": [
        {
          "name": "stdout",
          "output_type": "stream",
          "text": [
            "6 52\n"
          ]
        }
      ],
      "source": [
        "z=sum(int(a[i]) for i in range(len(a)) if  a[i] % 2!=0)\n",
        "y=sum(int(a[i]) for i in range(len(a)) if  a[i] % 2==0)\n",
        "print(z,y)"
      ]
    },
    {
      "cell_type": "code",
      "execution_count": null,
      "id": "f8ebc457",
      "metadata": {
        "id": "f8ebc457",
        "outputId": "149f7e96-a706-4859-80bc-16a09d5dc722"
      },
      "outputs": [
        {
          "ename": "SyntaxError",
          "evalue": "invalid syntax (265743536.py, line 1)",
          "output_type": "error",
          "traceback": [
            "\u001b[1;36m  File \u001b[1;32m\"C:\\Users\\Dell\\AppData\\Local\\Temp\\ipykernel_16664\\265743536.py\"\u001b[1;36m, line \u001b[1;32m1\u001b[0m\n\u001b[1;33m    d= return True if (int(a[i]) for i in range(len(a)) if a[i]==a[i]-1 ) else False\u001b[0m\n\u001b[1;37m       ^\u001b[0m\n\u001b[1;31mSyntaxError\u001b[0m\u001b[1;31m:\u001b[0m invalid syntax\n"
          ]
        }
      ],
      "source": []
    },
    {
      "cell_type": "code",
      "execution_count": null,
      "id": "380546ab",
      "metadata": {
        "id": "380546ab",
        "outputId": "685b92e3-2fab-4548-97dd-59e50cf2fd2d"
      },
      "outputs": [
        {
          "data": {
            "text/plain": [
              "True"
            ]
          },
          "execution_count": 61,
          "metadata": {},
          "output_type": "execute_result"
        }
      ],
      "source": [
        "ls=[1,2,2,5,6,8,10,12,14]\n",
        "n=len(ls)\n",
        "def duplicate(ls, n):\n",
        "    return True if any(ls[i] == ls[i-1] for i in range(1, n)) else False\n",
        "duplicate(ls,n)"
      ]
    },
    {
      "cell_type": "code",
      "execution_count": null,
      "id": "379850ef",
      "metadata": {
        "id": "379850ef",
        "outputId": "e1b5c064-636a-4ad2-8f6d-8a50a99a6a7a"
      },
      "outputs": [
        {
          "data": {
            "text/plain": [
              "[24, 32, 44, 52, 2]"
            ]
          },
          "execution_count": 66,
          "metadata": {},
          "output_type": "execute_result"
        }
      ],
      "source": [
        "lst=[24,32,13,15,19,44,52,7,9,2,51]\n",
        "def not_even(lst):\n",
        "    res = []\n",
        "    for ele in lst:\n",
        "        if ele % 2 == 0:\n",
        "            res.append(ele)\n",
        "    return res\n",
        "\n",
        "not_even(lst)"
      ]
    },
    {
      "cell_type": "code",
      "execution_count": null,
      "id": "12cbb49f",
      "metadata": {
        "id": "12cbb49f"
      },
      "outputs": [],
      "source": []
    }
  ],
  "metadata": {
    "kernelspec": {
      "display_name": "Python 3 (ipykernel)",
      "language": "python",
      "name": "python3"
    },
    "language_info": {
      "codemirror_mode": {
        "name": "ipython",
        "version": 3
      },
      "file_extension": ".py",
      "mimetype": "text/x-python",
      "name": "python",
      "nbconvert_exporter": "python",
      "pygments_lexer": "ipython3",
      "version": "3.9.13"
    },
    "colab": {
      "provenance": [],
      "include_colab_link": true
    }
  },
  "nbformat": 4,
  "nbformat_minor": 5
}