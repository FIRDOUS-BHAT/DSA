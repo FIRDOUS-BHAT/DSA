{
  "cells": [
    {
      "cell_type": "markdown",
      "metadata": {
        "id": "view-in-github",
        "colab_type": "text"
      },
      "source": [
        "<a href=\"https://colab.research.google.com/github/FIRDOUS-BHAT/DSA/blob/main/dsa7.ipynb\" target=\"_parent\"><img src=\"https://colab.research.google.com/assets/colab-badge.svg\" alt=\"Open In Colab\"/></a>"
      ]
    },
    {
      "cell_type": "code",
      "execution_count": null,
      "id": "198b92a6",
      "metadata": {
        "id": "198b92a6",
        "outputId": "136fea9b-113c-43de-a202-c517f0c4c903"
      },
      "outputs": [
        {
          "name": "stdout",
          "output_type": "stream",
          "text": [
            " a\n",
            " ai\n",
            " ain\n",
            " aine\n",
            " ainee\n",
            " aineea\n",
            " aineean\n",
            " aineeani\n",
            " aineeanin\n"
          ]
        }
      ],
      "source": [
        "str =\"Machine Learning\"\n",
        "reversed =\" \"\n",
        "for i in str:\n",
        "    cnt=0\n",
        "    for j in str:\n",
        "        if i==j:\n",
        "            cnt+=1\n",
        "        if cnt >1:\n",
        "            break\n",
        "    if cnt !=1:\n",
        "        reversed+=i\n",
        "        print(reversed)"
      ]
    },
    {
      "cell_type": "code",
      "execution_count": null,
      "id": "8c29f69f",
      "metadata": {
        "id": "8c29f69f",
        "outputId": "d940e750-7fdf-4c73-d8a9-51803fbfd3a0"
      },
      "outputs": [
        {
          "name": "stdout",
          "output_type": "stream",
          "text": [
            "ninaeenia\n"
          ]
        }
      ],
      "source": [
        "str = \"Machine Learning\"\n",
        "repeated_chars = \"\"\n",
        "\n",
        "for i in str:\n",
        "    cnt = 0\n",
        "    for j in str:\n",
        "        if i == j:\n",
        "            cnt += 1\n",
        "        if cnt > 1:\n",
        "            break\n",
        "    if cnt != 1:\n",
        "        repeated_chars += i\n",
        "\n",
        "print(repeated_chars[::-1])\n"
      ]
    },
    {
      "cell_type": "code",
      "execution_count": null,
      "id": "0f999557",
      "metadata": {
        "id": "0f999557"
      },
      "outputs": [],
      "source": []
    }
  ],
  "metadata": {
    "kernelspec": {
      "display_name": "Python 3 (ipykernel)",
      "language": "python",
      "name": "python3"
    },
    "language_info": {
      "codemirror_mode": {
        "name": "ipython",
        "version": 3
      },
      "file_extension": ".py",
      "mimetype": "text/x-python",
      "name": "python",
      "nbconvert_exporter": "python",
      "pygments_lexer": "ipython3",
      "version": "3.9.13"
    },
    "colab": {
      "provenance": [],
      "include_colab_link": true
    }
  },
  "nbformat": 4,
  "nbformat_minor": 5
}