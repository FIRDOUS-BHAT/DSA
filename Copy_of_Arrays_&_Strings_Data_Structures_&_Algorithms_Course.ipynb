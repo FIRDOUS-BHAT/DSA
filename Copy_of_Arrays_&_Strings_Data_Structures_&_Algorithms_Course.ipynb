{
  "nbformat": 4,
  "nbformat_minor": 0,
  "metadata": {
    "colab": {
      "provenance": []
    },
    "kernelspec": {
      "name": "python3",
      "display_name": "Python 3"
    },
    "language_info": {
      "name": "python"
    }
  },
  "cells": [
    {
      "cell_type": "code",
      "source": [
        "A = [1, 2, 3]\n",
        "\n",
        "print(A)"
      ],
      "metadata": {
        "colab": {
          "base_uri": "https://localhost:8080/"
        },
        "id": "VzRTQFB0VYvm",
        "outputId": "545b6a02-e81a-4eb7-bd85-5e7b9d1dd263"
      },
      "execution_count": 1,
      "outputs": [
        {
          "output_type": "stream",
          "name": "stdout",
          "text": [
            "[1, 2, 3]\n"
          ]
        }
      ]
    },
    {
      "cell_type": "code",
      "source": [
        "# Append - Insert element at end of array - On average: O(1)\n",
        "A.append(5)\n",
        "\n",
        "print(A)"
      ],
      "metadata": {
        "colab": {
          "base_uri": "https://localhost:8080/"
        },
        "id": "eZvWiZ5KVglF",
        "outputId": "c179f701-1d68-4d7d-c189-e7c6188376b3"
      },
      "execution_count": 3,
      "outputs": [
        {
          "output_type": "stream",
          "name": "stdout",
          "text": [
            "[1, 2, 3, 5, 5]\n"
          ]
        }
      ]
    },
    {
      "cell_type": "code",
      "source": [
        "# Pop - Deleting element at end of array - O(1)\n",
        "A.pop()\n",
        "\n",
        "print(A)"
      ],
      "metadata": {
        "colab": {
          "base_uri": "https://localhost:8080/"
        },
        "id": "6gv1VD8hVxpt",
        "outputId": "97c84e2e-2060-4fd7-dc0e-3200620e4ba4"
      },
      "execution_count": 4,
      "outputs": [
        {
          "output_type": "stream",
          "name": "stdout",
          "text": [
            "[1, 2, 3, 5]\n"
          ]
        }
      ]
    },
    {
      "cell_type": "code",
      "source": [
        "# Insert (not at end of array) - O(n)\n",
        "A.insert(2, 5)\n",
        "\n",
        "print(A)"
      ],
      "metadata": {
        "colab": {
          "base_uri": "https://localhost:8080/"
        },
        "id": "ees5YdQXV3Hh",
        "outputId": "35b5d9dc-ca00-428b-834d-44a572d3bbb1"
      },
      "execution_count": 6,
      "outputs": [
        {
          "output_type": "stream",
          "name": "stdout",
          "text": [
            "[1, 2, 5, 5, 3, 5]\n"
          ]
        }
      ]
    },
    {
      "cell_type": "code",
      "source": [
        "# Modify an element - O(1)\n",
        "A[0] = 7\n",
        "\n",
        "print(A)"
      ],
      "metadata": {
        "colab": {
          "base_uri": "https://localhost:8080/"
        },
        "id": "PUqj-tdsWCcT",
        "outputId": "d003489d-c673-4952-d8b9-9b134f6b1619"
      },
      "execution_count": 7,
      "outputs": [
        {
          "output_type": "stream",
          "name": "stdout",
          "text": [
            "[7, 2, 5, 5, 3, 5]\n"
          ]
        }
      ]
    },
    {
      "cell_type": "code",
      "source": [
        "# Accessing element given index i - O(1)\n",
        "print(A[2])"
      ],
      "metadata": {
        "colab": {
          "base_uri": "https://localhost:8080/"
        },
        "id": "-tdIAMi7WMF9",
        "outputId": "55991036-9a96-4917-dfe0-3c9c1fd8c4e3"
      },
      "execution_count": 8,
      "outputs": [
        {
          "output_type": "stream",
          "name": "stdout",
          "text": [
            "5\n"
          ]
        }
      ]
    },
    {
      "cell_type": "code",
      "source": [
        "# Checking if array has an element - O(n)\n",
        "if 7 in A:\n",
        "  print(True)"
      ],
      "metadata": {
        "colab": {
          "base_uri": "https://localhost:8080/"
        },
        "id": "KGGt2x8SWd2Q",
        "outputId": "d49bc5e7-55f0-4e16-bafc-b3159ccae361"
      },
      "execution_count": 9,
      "outputs": [
        {
          "output_type": "stream",
          "name": "stdout",
          "text": [
            "True\n"
          ]
        }
      ]
    },
    {
      "cell_type": "code",
      "source": [
        "# Checking length - O(1)\n",
        "print(len(A))"
      ],
      "metadata": {
        "colab": {
          "base_uri": "https://localhost:8080/"
        },
        "id": "tMXvKBcES8Qz",
        "outputId": "5ea7cdb5-06a1-41c7-ab69-6bc631ff316b"
      },
      "execution_count": 10,
      "outputs": [
        {
          "output_type": "stream",
          "name": "stdout",
          "text": [
            "6\n"
          ]
        }
      ]
    },
    {
      "cell_type": "code",
      "source": [
        "# Strings"
      ],
      "metadata": {
        "id": "Wb2rxRxUWniT"
      },
      "execution_count": 11,
      "outputs": []
    },
    {
      "cell_type": "code",
      "source": [
        "# Append to end of string - O(n)\n",
        "s = 'hello'\n",
        "\n",
        "b = s + 'z'\n",
        "\n",
        "print(b)"
      ],
      "metadata": {
        "colab": {
          "base_uri": "https://localhost:8080/"
        },
        "id": "L_okWBJvXEBW",
        "outputId": "9252cde1-f32b-42c5-9c71-b380b7fecd5f"
      },
      "execution_count": 12,
      "outputs": [
        {
          "output_type": "stream",
          "name": "stdout",
          "text": [
            "helloz\n"
          ]
        }
      ]
    },
    {
      "cell_type": "code",
      "source": [
        "# Check if something is in string - O(n)\n",
        "if 'f' in s:\n",
        "  print(True)"
      ],
      "metadata": {
        "id": "84fjadH4XLfu"
      },
      "execution_count": 13,
      "outputs": []
    },
    {
      "cell_type": "code",
      "source": [
        "# Access positions - O(1)\n",
        "print(s[2])"
      ],
      "metadata": {
        "colab": {
          "base_uri": "https://localhost:8080/"
        },
        "id": "IDbkEPclXlu4",
        "outputId": "5c4abd8d-bf3f-4bbe-cecb-83d7c0c50787"
      },
      "execution_count": 14,
      "outputs": [
        {
          "output_type": "stream",
          "name": "stdout",
          "text": [
            "l\n"
          ]
        }
      ]
    },
    {
      "cell_type": "code",
      "source": [
        "# Check length of string - O(1)\n",
        "len(s)"
      ],
      "metadata": {
        "id": "WPi1ScS8Xx1B",
        "colab": {
          "base_uri": "https://localhost:8080/"
        },
        "outputId": "1b5b0851-5251-418d-b2ca-91abd42e5b3b"
      },
      "execution_count": 15,
      "outputs": [
        {
          "output_type": "execute_result",
          "data": {
            "text/plain": [
              "5"
            ]
          },
          "metadata": {},
          "execution_count": 15
        }
      ]
    },
    {
      "cell_type": "code",
      "source": [],
      "metadata": {
        "id": "L8wkGhUqTOAi"
      },
      "execution_count": null,
      "outputs": []
    }
  ]
}