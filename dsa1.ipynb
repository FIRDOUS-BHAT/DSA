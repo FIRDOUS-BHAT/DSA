{
  "cells": [
    {
      "cell_type": "markdown",
      "metadata": {
        "id": "view-in-github",
        "colab_type": "text"
      },
      "source": [
        "<a href=\"https://colab.research.google.com/github/FIRDOUS-BHAT/DSA/blob/main/dsa1.ipynb\" target=\"_parent\"><img src=\"https://colab.research.google.com/assets/colab-badge.svg\" alt=\"Open In Colab\"/></a>"
      ]
    },
    {
      "cell_type": "code",
      "execution_count": null,
      "id": "f907e780",
      "metadata": {
        "id": "f907e780",
        "outputId": "ff0c6d6e-436e-4a37-cbeb-a83b25fde4e6"
      },
      "outputs": [
        {
          "name": "stdout",
          "output_type": "stream",
          "text": [
            "{'B': 5, 'A': 3, 'C': 2}\n"
          ]
        }
      ],
      "source": [
        "s = ['B','B','A','B','C','A','B','B','A','C']\n",
        "dic={}\n",
        "for i in s:\n",
        "    dic[i] =dic.get(i,0)+1\n",
        "\n",
        "print(dic)"
      ]
    },
    {
      "cell_type": "code",
      "execution_count": null,
      "id": "2e351d60",
      "metadata": {
        "id": "2e351d60",
        "outputId": "fbb17305-817d-402d-f48f-499af3627d4c"
      },
      "outputs": [
        {
          "ename": "SyntaxError",
          "evalue": "invalid syntax (1098027547.py, line 1)",
          "output_type": "error",
          "traceback": [
            "\u001b[1;36m  File \u001b[1;32m\"C:\\Users\\Dell\\AppData\\Local\\Temp\\ipykernel_23392\\1098027547.py\"\u001b[1;36m, line \u001b[1;32m1\u001b[0m\n\u001b[1;33m    s=' '.join[i for i in range(s)]\u001b[0m\n\u001b[1;37m                 ^\u001b[0m\n\u001b[1;31mSyntaxError\u001b[0m\u001b[1;31m:\u001b[0m invalid syntax\n"
          ]
        }
      ],
      "source": [
        "s=' '.join[i for i in range(s)]"
      ]
    },
    {
      "cell_type": "code",
      "execution_count": null,
      "id": "b880dc5d",
      "metadata": {
        "id": "b880dc5d",
        "outputId": "37ec4076-f413-48f7-876d-015b47e1a046"
      },
      "outputs": [
        {
          "name": "stdout",
          "output_type": "stream",
          "text": [
            "{'B': 5, 'A': 3, 'C': 2}\n"
          ]
        }
      ],
      "source": [
        "s = ['B','B','A','B','C','A','B','B','A','C']\n",
        "dic={}\n",
        "for i in s:\n",
        "    if  i not in dic:\n",
        "        dic[i]=1\n",
        "    else:\n",
        "        dic[i]+=1\n",
        "print(dic)"
      ]
    },
    {
      "cell_type": "code",
      "execution_count": null,
      "id": "965de844",
      "metadata": {
        "id": "965de844"
      },
      "outputs": [],
      "source": [
        "s= \"hello, good evening\"\n",
        "s.findall()"
      ]
    }
  ],
  "metadata": {
    "kernelspec": {
      "display_name": "Python 3 (ipykernel)",
      "language": "python",
      "name": "python3"
    },
    "language_info": {
      "codemirror_mode": {
        "name": "ipython",
        "version": 3
      },
      "file_extension": ".py",
      "mimetype": "text/x-python",
      "name": "python",
      "nbconvert_exporter": "python",
      "pygments_lexer": "ipython3",
      "version": "3.9.13"
    },
    "colab": {
      "provenance": [],
      "include_colab_link": true
    }
  },
  "nbformat": 4,
  "nbformat_minor": 5
}